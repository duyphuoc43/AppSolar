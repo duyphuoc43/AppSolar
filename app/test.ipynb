{
 "cells": [
  {
   "cell_type": "code",
   "execution_count": 16,
   "metadata": {},
   "outputs": [
    {
     "name": "stdout",
     "output_type": "stream",
     "text": [
      "CPU Info: {'CPU Model': 'AMD64 Family 25 Model 80 Stepping 0, AuthenticAMD', 'Total cores': 16}\n",
      "RAM Info: {'Total': '15.37 GB'}\n",
      "GPU Info: [{'GPU Name': 'NVIDIA GeForce RTX 3060 Laptop GPU', 'Total Memory': '6144.0MB'}]\n"
     ]
    }
   ],
   "source": [
    "\n",
    "import psutil\n",
    "import GPUtil\n",
    "import platform\n",
    "\n",
    "def get_cpu_info():\n",
    "    return {\n",
    "        \"CPU Model\": platform.processor(),\n",
    "        \"Total cores\": psutil.cpu_count(logical=True),\n",
    "    }\n",
    "\n",
    "def get_ram_info():\n",
    "    svmem = psutil.virtual_memory()\n",
    "    return {\n",
    "        \"Total\": f\"{svmem.total / (1024 ** 3):.2f} GB\",\n",
    "    }\n",
    "\n",
    "def get_gpu_info():\n",
    "    gpus = GPUtil.getGPUs()\n",
    "    gpu_info = []\n",
    "    for gpu in gpus:\n",
    "        gpu_info.append({\n",
    "            \"GPU Name\": gpu.name,\n",
    "            \"Total Memory\": f\"{gpu.memoryTotal}MB\",\n",
    "        })\n",
    "    return gpu_info\n",
    "\n",
    "def main():\n",
    "    print(\"CPU Info:\", get_cpu_info())\n",
    "    print(\"RAM Info:\", get_ram_info())\n",
    "    print(\"GPU Info:\", get_gpu_info())\n",
    "\n",
    "\n",
    "print(\"CPU Info:\", get_cpu_info())\n",
    "print(\"RAM Info:\", get_ram_info())\n",
    "print(\"GPU Info:\", get_gpu_info())"
   ]
  }
 ],
 "metadata": {
  "kernelspec": {
   "display_name": "Python 3",
   "language": "python",
   "name": "python3"
  },
  "language_info": {
   "codemirror_mode": {
    "name": "ipython",
    "version": 3
   },
   "file_extension": ".py",
   "mimetype": "text/x-python",
   "name": "python",
   "nbconvert_exporter": "python",
   "pygments_lexer": "ipython3",
   "version": "3.10.11"
  }
 },
 "nbformat": 4,
 "nbformat_minor": 2
}
