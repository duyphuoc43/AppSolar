{
 "cells": [
  {
   "cell_type": "markdown",
   "metadata": {},
   "source": []
  },
  {
   "cell_type": "code",
   "execution_count": 39,
   "metadata": {},
   "outputs": [
    {
     "name": "stdout",
     "output_type": "stream",
     "text": [
      "Kết nối thành công đến MySQL Server\n"
     ]
    }
   ],
   "source": [
    "import mysql.connector\n",
    "from mysql.connector import Error\n",
    "\n",
    "connection = mysql.connector.connect(\n",
    "    host=\"127.0.0.1\",\n",
    "    port = 3306,\n",
    "    database='appsolar',\n",
    "    user=\"duyphuoc\",\n",
    "    password=\"bebiu2020\"\n",
    ")\n",
    "\n",
    "if connection.is_connected():\n",
    "    print(\"Kết nối thành công đến MySQL Server\")\n",
    "\n",
    "    # Tạo một cursor object\n",
    "    cursor = connection.cursor()\n",
    "\n"
   ]
  },
  {
   "cell_type": "code",
   "execution_count": 40,
   "metadata": {},
   "outputs": [
    {
     "data": {
      "text/plain": [
       "[(1, 'EPC SOLAR', None), (2, 'VIETHUONG', None)]"
      ]
     },
     "execution_count": 40,
     "metadata": {},
     "output_type": "execute_result"
    }
   ],
   "source": [
    "\n",
    "# Lệnh SQL để truy vấn dữ liệu\n",
    "select_query = \"SELECT * FROM company\"\n",
    "\n",
    "# Thực thi lệnh SQL\n",
    "cursor.execute(select_query)\n",
    "\n",
    "# # Lấy tất cả các bản ghi\n",
    "records = []\n",
    "records = cursor.fetchall()\n",
    "records"
   ]
  },
  {
   "cell_type": "code",
   "execution_count": 64,
   "metadata": {},
   "outputs": [
    {
     "name": "stdout",
     "output_type": "stream",
     "text": [
      "<mysql.connector.connection_cext.CMySQLConnection object at 0x00000222C7780F10> record inserted.\n"
     ]
    }
   ],
   "source": [
    "\n",
    "\n",
    "sql = \"INSERT INTO company (idCompany ,name, address) VALUES (%s,%s, %s)\"\n",
    "val = [(10,\"John\", \"Highway 21\")]\n",
    "cursor.executemany(sql, val)\n",
    "\n",
    "connection.commit()\n",
    "\n",
    "print(connection, \"record inserted.\")"
   ]
  },
  {
   "cell_type": "code",
   "execution_count": 68,
   "metadata": {},
   "outputs": [
    {
     "name": "stdout",
     "output_type": "stream",
     "text": [
      "CPU Percent Usage: 0.7\n"
     ]
    }
   ],
   "source": [
    "import psutil\n",
    "\n",
    "def get_cpu_percent():\n",
    "    cpu_percent = psutil.cpu_percent(interval=1)\n",
    "    return cpu_percent\n",
    "\n",
    "print(\"CPU Percent Usage:\", get_cpu_percent())\n"
   ]
  },
  {
   "cell_type": "code",
   "execution_count": 74,
   "metadata": {},
   "outputs": [
    {
     "name": "stdout",
     "output_type": "stream",
     "text": [
      "CPU Percent Usage: 1.3 %\n",
      "GPU 0 Utilization: 0.0%\n",
      "Memory Utilization: 0.0%\n",
      "RAM Percent Usage: 66.7 %\n"
     ]
    }
   ],
   "source": [
    "import psutil\n",
    "import subprocess\n",
    "import re\n",
    "\n",
    "def get_cpu_percent():\n",
    "    cpu_percent = psutil.cpu_percent(interval=1)\n",
    "    return cpu_percent\n",
    "\n",
    "def get_gpu_info():\n",
    "    try:\n",
    "        output = subprocess.check_output(['nvidia-smi', '--query-gpu=index,utilization.gpu,utilization.memory', '--format=csv,noheader,nounits'])\n",
    "        gpu_info = output.decode('utf-8').strip().split('\\n')\n",
    "        result = []\n",
    "        for gpu in gpu_info:\n",
    "            index, gpu_util, memory_util = gpu.split(',')\n",
    "            result.append({\n",
    "                'index': int(index),\n",
    "                'gpu_utilization': float(gpu_util),\n",
    "                'memory_utilization': float(memory_util)\n",
    "            })\n",
    "        return result\n",
    "    except Exception as e:\n",
    "        print(\"Error:\", e)\n",
    "        return None\n",
    "\n",
    "def get_ram_percent():\n",
    "    ram_percent = psutil.virtual_memory().percent\n",
    "    return ram_percent\n",
    "\n",
    "print(\"CPU Percent Usage:\", get_cpu_percent(), \"%\")\n",
    "gpu_info = get_gpu_info()\n",
    "if gpu_info:\n",
    "    for gpu in gpu_info:\n",
    "        print(f\"GPU {gpu['index']} Utilization: {gpu['gpu_utilization']}%\")\n",
    "        print(f\"Memory Utilization: {gpu['memory_utilization']}%\")\n",
    "else:\n",
    "    print(\"Failed to retrieve GPU information.\")\n",
    "    \n",
    "print(\"RAM Percent Usage:\", get_ram_percent(), \"%\")\n"
   ]
  },
  {
   "cell_type": "code",
   "execution_count": null,
   "metadata": {},
   "outputs": [],
   "source": []
  }
 ],
 "metadata": {
  "kernelspec": {
   "display_name": "Python 3",
   "language": "python",
   "name": "python3"
  },
  "language_info": {
   "codemirror_mode": {
    "name": "ipython",
    "version": 3
   },
   "file_extension": ".py",
   "mimetype": "text/x-python",
   "name": "python",
   "nbconvert_exporter": "python",
   "pygments_lexer": "ipython3",
   "version": "3.10.11"
  }
 },
 "nbformat": 4,
 "nbformat_minor": 2
}
